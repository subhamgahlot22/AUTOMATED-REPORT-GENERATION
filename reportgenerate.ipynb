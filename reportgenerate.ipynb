import tkinter as tk
from tkinter import filedialog, messagebox
import pandas as pd
from fpdf import FPDF
import os

class PDFReport(FPDF):
    def header(self):
        self.set_font("Arial", "B", 14)
        self.cell(200, 10, "Automated Data Analysis Report", ln=True, align="C")
        self.ln(10)

    def add_section(self, title, content):
        self.set_font("Arial", "B", 12)
        self.cell(200, 10, title, ln=True)
        self.set_font("Arial", "", 10)
        self.multi_cell(0, 10, content)
        self.ln()

def analyze_data(file_path):
    df = pd.read_csv(file_path)
    summary = df.describe(include='all').to_string()
    return summary

def generate_pdf_report(summary, output_path):
    pdf = PDFReport()
    pdf.add_page()
    pdf.add_section("Summary Statistics", summary)
    pdf.output(output_path)
    return output_path

def select_file_and_generate_report():
    file_path = filedialog.askopenfilename(filetypes=[("CSV files", "*.csv")])
    if file_path:
        try:
            summary = analyze_data(file_path)
            output_path = os.path.splitext(file_path)[0] + "_report.pdf"
            generate_pdf_report(summary, output_path)
            messagebox.showinfo("Success", f"Report generated:\n{output_path}")
        except Exception as e:
            messagebox.showerror("Error", str(e))
    else:
        messagebox.showwarning("No file selected", "Please select a CSV file.")

def main():
    root = tk.Tk()
    root.title("Automated Report Generator")
    root.geometry("300x150")

    label = tk.Label(root, text="Click below to select a CSV file", pady=20)
    label.pack()

    button = tk.Button(root, text="Select File and Generate Report", command=select_file_and_generate_report)
    button.pack()

    root.mainloop()

if __name__ == "__main__":
    main()
